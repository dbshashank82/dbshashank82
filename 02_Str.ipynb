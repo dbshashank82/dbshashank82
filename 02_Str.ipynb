{
 "cells": [
  {
   "cell_type": "code",
   "execution_count": 1,
   "id": "70c8b186-51d7-4a41-8863-13b10d348888",
   "metadata": {},
   "outputs": [
    {
     "data": {
      "text/plain": [
       "'hello world'"
      ]
     },
     "execution_count": 1,
     "metadata": {},
     "output_type": "execute_result"
    }
   ],
   "source": [
    "'hello world'"
   ]
  },
  {
   "cell_type": "code",
   "execution_count": 2,
   "id": "0cade269-c0a0-4d3c-b4ca-80f0a39da987",
   "metadata": {},
   "outputs": [
    {
     "data": {
      "text/plain": [
       "'hello world'"
      ]
     },
     "execution_count": 2,
     "metadata": {},
     "output_type": "execute_result"
    }
   ],
   "source": [
    "\"hello world\""
   ]
  },
  {
   "cell_type": "code",
   "execution_count": 3,
   "id": "c4d5785f-78fb-40e5-9015-55fad9261748",
   "metadata": {},
   "outputs": [
    {
     "data": {
      "text/plain": [
       "'Testing the escape characters \\n for the sentence'"
      ]
     },
     "execution_count": 3,
     "metadata": {},
     "output_type": "execute_result"
    }
   ],
   "source": [
    "'Testing the escape characters \\n for the sentence'"
   ]
  },
  {
   "cell_type": "code",
   "execution_count": 7,
   "id": "0aa1fd53-50a8-403c-992d-b4957f519df2",
   "metadata": {},
   "outputs": [
    {
     "name": "stdout",
     "output_type": "stream",
     "text": [
      "Testing the escape characters \n",
      "for the sentence\n"
     ]
    }
   ],
   "source": [
    "print('Testing the escape characters \\nfor the sentence')"
   ]
  },
  {
   "cell_type": "code",
   "execution_count": 9,
   "id": "e5d6f6a2-cf15-4aa9-ac04-fb84e4b5afeb",
   "metadata": {},
   "outputs": [
    {
     "name": "stdout",
     "output_type": "stream",
     "text": [
      "Testing the escape characters \t for the sentence\n"
     ]
    }
   ],
   "source": [
    "print('Testing the escape characters \\t for the sentence')"
   ]
  },
  {
   "cell_type": "code",
   "execution_count": 12,
   "id": "58909733-441f-417e-b215-f2ff3d1de562",
   "metadata": {},
   "outputs": [
    {
     "data": {
      "text/plain": [
       "46"
      ]
     },
     "execution_count": 12,
     "metadata": {},
     "output_type": "execute_result"
    }
   ],
   "source": [
    "len('Testing the escape characters for the sentence')"
   ]
  },
  {
   "cell_type": "code",
   "execution_count": 13,
   "id": "71af4b5f-c1fa-4bdb-9e01-4a12f5a6dbf8",
   "metadata": {},
   "outputs": [],
   "source": [
    "index_string = 'Computer Coding'"
   ]
  },
  {
   "cell_type": "code",
   "execution_count": 14,
   "id": "c2bd9df2-4651-4989-a752-0386ab47954f",
   "metadata": {},
   "outputs": [
    {
     "name": "stdout",
     "output_type": "stream",
     "text": [
      "Computer Coding\n"
     ]
    }
   ],
   "source": [
    "print(index_string)"
   ]
  },
  {
   "cell_type": "code",
   "execution_count": 15,
   "id": "58cf4e98-cf66-4beb-9d27-69f63abdb5ee",
   "metadata": {},
   "outputs": [
    {
     "data": {
      "text/plain": [
       "'C'"
      ]
     },
     "execution_count": 15,
     "metadata": {},
     "output_type": "execute_result"
    }
   ],
   "source": [
    "index_string [0]"
   ]
  },
  {
   "cell_type": "code",
   "execution_count": 16,
   "id": "2f095f2a-7d6c-4e7c-93c8-e3fd7ab2814a",
   "metadata": {},
   "outputs": [
    {
     "name": "stdout",
     "output_type": "stream",
     "text": [
      "C\n"
     ]
    }
   ],
   "source": [
    "print(index_string[0])"
   ]
  },
  {
   "cell_type": "code",
   "execution_count": 23,
   "id": "d3c1588d-0b24-4f1f-ac5a-1693c7d219b2",
   "metadata": {},
   "outputs": [
    {
     "name": "stdout",
     "output_type": "stream",
     "text": [
      "Comp\n"
     ]
    }
   ],
   "source": [
    "#Indexing\n",
    "print(index_string[0:4])"
   ]
  },
  {
   "cell_type": "code",
   "execution_count": 28,
   "id": "923b965f-cdfd-4f5a-b4d3-22678478b44f",
   "metadata": {},
   "outputs": [
    {
     "name": "stdout",
     "output_type": "stream",
     "text": [
      "g\n",
      "Computer Codin\n",
      "ptr\n",
      "mputer\n",
      "gnidoC retupmoC\n"
     ]
    }
   ],
   "source": [
    "#Reverese Indexing\n",
    "\n",
    "print(index_string[-1])\n",
    "print(index_string[:-1:])\n",
    "\n",
    "#Slicing\n",
    "print(index_string[3:8:2])\n",
    "print(index_string[2:8])\n",
    "print(index_string[::-1])"
   ]
  },
  {
   "cell_type": "code",
   "execution_count": 30,
   "id": "6d91e036-eee8-41aa-a7c1-b445e5d44763",
   "metadata": {},
   "outputs": [
    {
     "data": {
      "text/plain": [
       "'ink'"
      ]
     },
     "execution_count": 30,
     "metadata": {},
     "output_type": "execute_result"
    }
   ],
   "source": [
    "'tinker'[1:4]"
   ]
  },
  {
   "cell_type": "code",
   "execution_count": 40,
   "id": "c4cba9c8-a400-4e4c-8410-8c291c9fb324",
   "metadata": {},
   "outputs": [
    {
     "name": "stdout",
     "output_type": "stream",
     "text": [
      "India\n",
      "India - It is my country and I am proud to be Indian\n"
     ]
    }
   ],
   "source": [
    "#Immutable Examples - Strings are Immutable\n",
    "\n",
    "country = 'India'\n",
    "print(country)\n",
    "print(country + ' - It is my country and I am proud to be Indian')\n",
    "country_text = ' - It is my country and I am proud to be Indian'"
   ]
  },
  {
   "cell_type": "code",
   "execution_count": 42,
   "id": "85e5a465-4f03-40ae-bc46-eefb3ad394d8",
   "metadata": {},
   "outputs": [],
   "source": [
    "country = country + country_text"
   ]
  },
  {
   "cell_type": "code",
   "execution_count": 68,
   "id": "09e61794-9bcd-4080-ad38-1cedb92eae15",
   "metadata": {},
   "outputs": [
    {
     "name": "stdout",
     "output_type": "stream",
     "text": [
      "India - It is my country and I am proud to be Indian\n",
      "india - it is my country and i am proud to be indian\n",
      "INDIA - IT IS MY COUNTRY AND I AM PROUD TO BE INDIAN\n",
      "['India', '-', 'It', 'is', 'my', 'country', 'and', 'I', 'am', 'proud', 'to', 'be', 'Indian']\n",
      "['Ind', 'a - It ', 's my country and I am proud to be Ind', 'an']\n",
      "['', 'ndia - ', 't is my country and ', ' am proud to be ', 'ndian']\n",
      "['', 'nd', 'a - ', 't ', 's my country and ', ' am proud to be ', 'nd', 'an']\n",
      "['', 'ND', 'A - ', 'T ', 'S MY COUNTRY AND ', ' AM PROUD TO BE ', 'ND', 'AN']\n"
     ]
    }
   ],
   "source": [
    "# Using Inbuilt functions - Need to explore multiple in built functions \n",
    "print(country)\n",
    "print(country.lower())\n",
    "print(country.upper())\n",
    "print(country.split()) # Split String with by default space between words\n",
    "print(country.split('i')) # Split String with small letters\n",
    "print(country.split('I')) # Split String with caps letters\n",
    "print(country.lower().split('i')) # Convert the whole string to snall letters and Split String with small letters\n",
    "print(country.upper().split('I')) # Convert the whole string to caps letters and Split String with small letters"
   ]
  },
  {
   "cell_type": "code",
   "execution_count": 88,
   "id": "2b9762ee-befc-4ab3-a9f2-9c242c025940",
   "metadata": {},
   "outputs": [
    {
     "name": "stdout",
     "output_type": "stream",
     "text": [
      "This is My Location\n",
      "This is My Location India - It is my country and I am proud to be Indian\n",
      "This is My Location India - It is my country and I am proud to be Indian\n",
      "This is My Location India - It is my country and I am proud to be Indian. It has 135 Million people.\n"
     ]
    }
   ],
   "source": [
    "# .format Method\n",
    "\n",
    "place = 'My Location'\n",
    "population = '135 Million'\n",
    "print('This is {}'.format(place))\n",
    "print('This is {0} {1}'.format(place,country))\n",
    "print('This is {p} {c}'.format(p= place,c = country))\n",
    "print('This is {p} {c}. It has {pop} people.'.format(p= place,c = country,pop = population))"
   ]
  },
  {
   "cell_type": "code",
   "execution_count": 90,
   "id": "ac1b7e24-6498-4982-8901-54a81f475340",
   "metadata": {},
   "outputs": [
    {
     "name": "stdout",
     "output_type": "stream",
     "text": [
      "This is My Location India - It is my country and I am proud to be Indian. It has 135 Million people.\n"
     ]
    }
   ],
   "source": [
    "# f string Method\n",
    "\n",
    "print(f'This is {place} {country}. It has {population} people.') "
   ]
  },
  {
   "cell_type": "code",
   "execution_count": null,
   "id": "bfe70957-6761-4c27-9a90-cfa7f960a34a",
   "metadata": {},
   "outputs": [],
   "source": []
  }
 ],
 "metadata": {
  "kernelspec": {
   "display_name": "Python 3 (ipykernel)",
   "language": "python",
   "name": "python3"
  },
  "language_info": {
   "codemirror_mode": {
    "name": "ipython",
    "version": 3
   },
   "file_extension": ".py",
   "mimetype": "text/x-python",
   "name": "python",
   "nbconvert_exporter": "python",
   "pygments_lexer": "ipython3",
   "version": "3.12.0"
  }
 },
 "nbformat": 4,
 "nbformat_minor": 5
}
