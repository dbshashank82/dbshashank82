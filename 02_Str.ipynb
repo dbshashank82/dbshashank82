{
 "cells": [
  {
   "cell_type": "code",
   "execution_count": 1,
   "id": "70c8b186-51d7-4a41-8863-13b10d348888",
   "metadata": {},
   "outputs": [
    {
     "data": {
      "text/plain": [
       "'hello world'"
      ]
     },
     "execution_count": 1,
     "metadata": {},
     "output_type": "execute_result"
    }
   ],
   "source": [
    "                                                            'hello world'"
   ]
  },
  {
   "cell_type": "code",
   "execution_count": 2,
   "id": "0cade269-c0a0-4d3c-b4ca-80f0a39da987",
   "metadata": {},
   "outputs": [
    {
     "data": {
      "text/plain": [
       "'hello world'"
      ]
     },
     "execution_count": 2,
     "metadata": {},
     "output_type": "execute_result"
    }
   ],
   "source": [
    "\"hello world\""
   ]
  },
  {
   "cell_type": "code",
   "execution_count": 3,
   "id": "c4d5785f-78fb-40e5-9015-55fad9261748",
   "metadata": {},
   "outputs": [
    {
     "data": {
      "text/plain": [
       "'Testing the escape characters \\n for the sentence'"
      ]
     },
     "execution_count": 3,
     "metadata": {},
     "output_type": "execute_result"
    }
   ],
   "source": [
    "'Testing the escape characters \\n for the sentence'"
   ]
  },
  {
   "cell_type": "code",
   "execution_count": 7,
   "id": "0aa1fd53-50a8-403c-992d-b4957f519df2",
   "metadata": {},
   "outputs": [
    {
     "name": "stdout",
     "output_type": "stream",
     "text": [
      "Testing the escape characters \n",
      "for the sentence\n"
     ]
    }
   ],
   "source": [
    "print('Testing the escape characters \\nfor the sentence')"
   ]
  },
  {
   "cell_type": "code",
   "execution_count": 9,
   "id": "e5d6f6a2-cf15-4aa9-ac04-fb84e4b5afeb",
   "metadata": {},
   "outputs": [
    {
     "name": "stdout",
     "output_type": "stream",
     "text": [
      "Testing the escape characters \t for the sentence\n"
     ]
    }
   ],
   "source": [
    "print('Testing the escape characters \\t for the sentence')"
   ]
  },
  {
   "cell_type": "code",
   "execution_count": 12,
   "id": "58909733-441f-417e-b215-f2ff3d1de562",
   "metadata": {},
   "outputs": [
    {
     "data": {
      "text/plain": [
       "46"
      ]
     },
     "execution_count": 12,
     "metadata": {},
     "output_type": "execute_result"
    }
   ],
   "source": [
    "len('Testing the escape characters for the sentence')"
   ]
  },
  {
   "cell_type": "code",
   "execution_count": 13,
   "id": "71af4b5f-c1fa-4bdb-9e01-4a12f5a6dbf8",
   "metadata": {},
   "outputs": [],
   "source": [
    "index_string = 'Computer Coding'"
   ]
  },
  {
   "cell_type": "code",
   "execution_count": 14,
   "id": "c2bd9df2-4651-4989-a752-0386ab47954f",
   "metadata": {},
   "outputs": [
    {
     "name": "stdout",
     "output_type": "stream",
     "text": [
      "Computer Coding\n"
     ]
    }
   ],
   "source": [
    "print(index_string)"
   ]
  },
  {
   "cell_type": "code",
   "execution_count": 15,
   "id": "58cf4e98-cf66-4beb-9d27-69f63abdb5ee",
   "metadata": {},
   "outputs": [
    {
     "data": {
      "text/plain": [
       "'C'"
      ]
     },
     "execution_count": 15,
     "metadata": {},
     "output_type": "execute_result"
    }
   ],
   "source": [
    "index_string [0]"
   ]
  },
  {
   "cell_type": "code",
   "execution_count": 16,
   "id": "2f095f2a-7d6c-4e7c-93c8-e3fd7ab2814a",
   "metadata": {},
   "outputs": [
    {
     "name": "stdout",
     "output_type": "stream",
     "text": [
      "C\n"
     ]
    }
   ],
   "source": [
    "print(index_string[0])"
   ]
  },
  {
   "cell_type": "code",
   "execution_count": 23,
   "id": "d3c1588d-0b24-4f1f-ac5a-1693c7d219b2",
   "metadata": {},
   "outputs": [
    {
     "name": "stdout",
     "output_type": "stream",
     "text": [
      "Comp\n"
     ]
    }
   ],
   "source": [
    "#Indexing\n",
    "print(index_string[0:4])"
   ]
  },
  {
   "cell_type": "code",
   "execution_count": 28,
   "id": "923b965f-cdfd-4f5a-b4d3-22678478b44f",
   "metadata": {},
   "outputs": [
    {
     "name": "stdout",
     "output_type": "stream",
     "text": [
      "g\n",
      "Computer Codin\n",
      "ptr\n",
      "mputer\n",
      "gnidoC retupmoC\n"
     ]
    }
   ],
   "source": [
    "#Reverese Indexing\n",
    "\n",
    "print(index_string[-1])\n",
    "print(index_string[:-1:])\n",
    "\n",
    "#Slicing\n",
    "print(index_string[3:8:2])\n",
    "print(index_string[2:8])\n",
    "print(index_string[::-1])"
   ]
  },
  {
   "cell_type": "code",
   "execution_count": 30,
   "id": "6d91e036-eee8-41aa-a7c1-b445e5d44763",
   "metadata": {},
   "outputs": [
    {
     "data": {
      "text/plain": [
       "'ink'"
      ]
     },
     "execution_count": 30,
     "metadata": {},
     "output_type": "execute_result"
    }
   ],
   "source": [
    "'tinker'[1:4]"
   ]
  },
  {
   "cell_type": "code",
   "execution_count": 40,
   "id": "c4cba9c8-a400-4e4c-8410-8c291c9fb324",
   "metadata": {},
   "outputs": [
    {
     "name": "stdout",
     "output_type": "stream",
     "text": [
      "India\n",
      "India - It is my country and I am proud to be Indian\n"
     ]
    }
   ],
   "source": [
    "#Immutable Examples - Strings are Immutable\n",
    "\n",
    "country = 'India'\n",
    "print(country)\n",
    "print(country + ' - It is my country and I am proud to be Indian')\n",
    "country_text = ' - It is my country and I am proud to be Indian'"
   ]
  },
  {
   "cell_type": "code",
   "execution_count": 42,
   "id": "85e5a465-4f03-40ae-bc46-eefb3ad394d8",
   "metadata": {},
   "outputs": [],
   "source": [
    "country = country + country_text"
   ]
  },
  {
   "cell_type": "code",
   "execution_count": 68,
   "id": "09e61794-9bcd-4080-ad38-1cedb92eae15",
   "metadata": {},
   "outputs": [
    {
     "name": "stdout",
     "output_type": "stream",
     "text": [
      "India - It is my country and I am proud to be Indian\n",
      "india - it is my country and i am proud to be indian\n",
      "INDIA - IT IS MY COUNTRY AND I AM PROUD TO BE INDIAN\n",
      "['India', '-', 'It', 'is', 'my', 'country', 'and', 'I', 'am', 'proud', 'to', 'be', 'Indian']\n",
      "['Ind', 'a - It ', 's my country and I am proud to be Ind', 'an']\n",
      "['', 'ndia - ', 't is my country and ', ' am proud to be ', 'ndian']\n",
      "['', 'nd', 'a - ', 't ', 's my country and ', ' am proud to be ', 'nd', 'an']\n",
      "['', 'ND', 'A - ', 'T ', 'S MY COUNTRY AND ', ' AM PROUD TO BE ', 'ND', 'AN']\n"
     ]
    }
   ],
   "source": [
    "# Using Inbuilt functions - Need to explore multiple in built functions \n",
    "print(country)\n",
    "print(country.lower())\n",
    "print(country.upper())\n",
    "print(country.split()) # Split String with by default space between words\n",
    "print(country.split('i')) # Split String with small letters\n",
    "print(country.split('I')) # Split String with caps letters\n",
    "print(country.lower().split('i')) # Convert the whole string to snall letters and Split String with small letters\n",
    "print(country.upper().split('I')) # Convert the whole string to caps letters and Split String with small letters"
   ]
  },
  {
   "cell_type": "code",
   "execution_count": 88,
   "id": "2b9762ee-befc-4ab3-a9f2-9c242c025940",
   "metadata": {},
   "outputs": [
    {
     "name": "stdout",
     "output_type": "stream",
     "text": [
      "This is My Location\n",
      "This is My Location India - It is my country and I am proud to be Indian\n",
      "This is My Location India - It is my country and I am proud to be Indian\n",
      "This is My Location India - It is my country and I am proud to be Indian. It has 135 Million people.\n"
     ]
    }
   ],
   "source": [
    "# .format Method\n",
    "\n",
    "place = 'My Location'\n",
    "population = '135 Million'\n",
    "print('This is {}'.format(place))\n",
    "print('This is {0} {1}'.format(place,country))\n",
    "print('This is {p} {c}'.format(p= place,c = country))\n",
    "print('This is {p} {c}. It has {pop} people.'.format(p= place,c = country,pop = population))"
   ]
  },
  {
   "cell_type": "code",
   "execution_count": 90,
   "id": "ac1b7e24-6498-4982-8901-54a81f475340",
   "metadata": {},
   "outputs": [
    {
     "name": "stdout",
     "output_type": "stream",
     "text": [
      "This is My Location India - It is my country and I am proud to be Indian. It has 135 Million people.\n"
     ]
    }
   ],
   "source": [
    "# f string Method\n",
    "\n",
    "print(f'This is {place} {country}. It has {population} people.') "
   ]
  },
  {
   "cell_type": "markdown",
   "id": "ce4b6dcc-6c19-4773-8ea2-c97d22e207a9",
   "metadata": {},
   "source": [
    "Formatting with placeholders\n",
    "\n",
    "\n",
    "You can use %s to inject strings into your print statements. The modulo % is referred to as a \"string formatting operator\"."
   ]
  },
  {
   "cell_type": "code",
   "execution_count": 4,
   "id": "0b2c71fa-6f31-4753-b456-6f2ccdeccd38",
   "metadata": {},
   "outputs": [
    {
     "name": "stdout",
     "output_type": "stream",
     "text": [
      "This course is very good.\n"
     ]
    }
   ],
   "source": [
    "print('This course is very %s.' %'good')"
   ]
  },
  {
   "cell_type": "markdown",
   "id": "9975b9fe-7c79-4641-a459-f5558213b8a9",
   "metadata": {},
   "source": [
    "You can pass multiple items by placing them inside a tuple after the % operator."
   ]
  },
  {
   "cell_type": "code",
   "execution_count": 11,
   "id": "67a5918a-fa6e-42fb-a64b-c2999ed68406",
   "metadata": {},
   "outputs": [
    {
     "name": "stdout",
     "output_type": "stream",
     "text": [
      "Today is Sunny day. I love to have fun days. Need to spend time on completing tasks to earn money $20 USD.\n"
     ]
    }
   ],
   "source": [
    "print('Today is %s day. I love to have fun %s. Need to spend time on %s tasks to earn money %s USD.' % ('Sunny','days','completing','$20'))"
   ]
  },
  {
   "cell_type": "markdown",
   "id": "4e857e75-0689-4168-b494-243f856df1dc",
   "metadata": {},
   "source": [
    "You can also pass variable names:"
   ]
  },
  {
   "cell_type": "code",
   "execution_count": 12,
   "id": "5d85647d-c203-448d-a8e9-3a8ee9a06f6d",
   "metadata": {},
   "outputs": [
    {
     "name": "stdout",
     "output_type": "stream",
     "text": [
      "Today is Sunny day. I love to have fun days. Need to spend time on completing tasks to earn money $20 USD.\n"
     ]
    }
   ],
   "source": [
    "a,b,c,d =  ('Sunny','days','completing','$20')\n",
    "\n",
    "print('Today is %s day. I love to have fun %s. Need to spend time on %s tasks to earn money %s USD.' % (a,b,c,d))"
   ]
  },
  {
   "cell_type": "markdown",
   "id": "a5b6e898-32d6-4b27-8e92-7cb1b79dcd72",
   "metadata": {},
   "source": [
    "Format conversion methods.\n",
    "\n",
    "\r\n",
    "It should be noted that two methods %s and %r convert any python object to a string using two separate methods: str() and repr(). We will learn more about these functions later on in the course, but you should note that %r and repr() deliver the string representation of the object, including quotation marks and any escape characters."
   ]
  },
  {
   "cell_type": "code",
   "execution_count": 11,
   "id": "757be4ca-6bbb-4499-8b11-501105985fd6",
   "metadata": {},
   "outputs": [
    {
     "name": "stdout",
     "output_type": "stream",
     "text": [
      "This book is sold at major Cities.\n",
      "This book is sold at major 'Cities'.\n",
      "Disney World is amazing Place, to have \tFun.\n",
      "Disney World is amazing 'Place', to have '\\tFun'.\n"
     ]
    }
   ],
   "source": [
    "print('This book is sold at major %s.' %'Cities')\n",
    "print('This book is sold at major %r.' %'Cities')\n",
    "\n",
    "#As another example, \\t inserts a tab into a string.\n",
    "\n",
    "print('Disney World is amazing %s, to have %s.' %('Place', '\\tFun'))\n",
    "print('Disney World is amazing %r, to have %r.' %('Place', '\\tFun'))\n"
   ]
  },
  {
   "cell_type": "markdown",
   "id": "d01436f1-d110-46cb-a489-592d5f13fda5",
   "metadata": {},
   "source": [
    "The %s operator converts whatever it sees into a string, including integers and floats. The %d operator converts numbers to integers first, without rounding. Note the difference below:"
   ]
  },
  {
   "cell_type": "code",
   "execution_count": 20,
   "id": "33a1e2ee-b3af-4926-9e29-01ae87eb1c73",
   "metadata": {},
   "outputs": [
    {
     "name": "stdout",
     "output_type": "stream",
     "text": [
      "Learning new Padding function 2.25.\n",
      "Learning new padding functions 2.\n"
     ]
    }
   ],
   "source": [
    "print('Learning new Padding function %s.' %2.25)\n",
    "print('Learning new padding functions %d.' %2.25)      "
   ]
  },
  {
   "cell_type": "markdown",
   "id": "d3de6b36-e0d4-4dad-9da1-a439a9a80a9f",
   "metadata": {},
   "source": [
    "Padding and Precision of Floating Point Numbers\n",
    "\n",
    "\n",
    "Floating point numbers use the format %5.2f. Here, 5 would be the minimum number of characters the string should contain; these may be padded with whitespace if the entire number does not have this many digits. Next to this, .2f stands for how many numbers to show past the decimal point. Let's see some examples:"
   ]
  },
  {
   "cell_type": "code",
   "execution_count": 26,
   "id": "bccf4c46-5079-419c-b7c6-93dd78b02060",
   "metadata": {},
   "outputs": [
    {
     "name": "stdout",
     "output_type": "stream",
     "text": [
      "Learning Padding and Precision Exaples EXAMPLES    1234.35\n",
      "Floating point numbers:                     13.14\n"
     ]
    }
   ],
   "source": [
    "print('Learning Padding and Precision Exaples %s %10.2f' % ('EXAMPLES',1234.3456))\n",
    "print('Floating point numbers: %25.2f' %(13.144))"
   ]
  },
  {
   "cell_type": "markdown",
   "id": "5089f37c-de91-496b-aaeb-ead1ef3ed4a7",
   "metadata": {},
   "source": [
    "For more information on string formatting with placeholders visit https://docs.python.org/3/library/stdtypes.html#old-string-formatting\n",
    "\n",
    "Multiple Formatting\n",
    "Nothing prohibits using more than one conversion tool in the same print statement:"
   ]
  },
  {
   "cell_type": "code",
   "execution_count": 27,
   "id": "67500425-9012-433b-a3d1-bcde62de9497",
   "metadata": {},
   "outputs": [
    {
     "name": "stdout",
     "output_type": "stream",
     "text": [
      "First: hello!, Second Number: 246.14, Third: 'World!'\n"
     ]
    }
   ],
   "source": [
    "print('First: %s, Second Number: %5.2f, Third: %r' %('hello!',246.1415,'World!'))"
   ]
  },
  {
   "cell_type": "markdown",
   "id": "c313e63b-fab3-4410-b38b-f41888b086a9",
   "metadata": {},
   "source": [
    "Formatting with the .format() method\n",
    "A better way to format objects into your strings for print statements is with the string .format() method. The syntax is:\n",
    "\n",
    "'String here {} then also {}'.format('something1','something2')\n",
    "For example:"
   ]
  },
  {
   "cell_type": "code",
   "execution_count": 28,
   "id": "b4427bcb-2f74-4328-8ed6-2c7ea9402928",
   "metadata": {},
   "outputs": [
    {
     "name": "stdout",
     "output_type": "stream",
     "text": [
      "This is a string with an insert\n"
     ]
    }
   ],
   "source": [
    "print('This is a string with an {}'.format('insert'))"
   ]
  },
  {
   "cell_type": "markdown",
   "id": "76e0ce55-6569-460a-9922-9e820a10153f",
   "metadata": {},
   "source": [
    "The .format() method has several advantages over the %s placeholder method:\n",
    "\n",
    "1. Inserted objects can be called by index position:"
   ]
  },
  {
   "cell_type": "code",
   "execution_count": 29,
   "id": "4a6fee6f-ecdf-45a6-bf43-971e3b5538fc",
   "metadata": {},
   "outputs": [
    {
     "name": "stdout",
     "output_type": "stream",
     "text": [
      "The quick brown fox\n"
     ]
    }
   ],
   "source": [
    "print('The {2} {1} {0}'.format('fox','brown','quick'))"
   ]
  },
  {
   "cell_type": "code",
   "execution_count": 30,
   "id": "4a5764ed-2f6e-4fb1-9987-025dce97fc49",
   "metadata": {},
   "outputs": [
    {
     "name": "stdout",
     "output_type": "stream",
     "text": [
      "The brown fox is quick\n"
     ]
    }
   ],
   "source": [
    "print('The {1} {0} is {2}'.format('fox','brown','quick'))"
   ]
  },
  {
   "cell_type": "code",
   "execution_count": 32,
   "id": "0f2efedf-aab5-47e7-8ec8-731b8ec6a161",
   "metadata": {},
   "outputs": [
    {
     "name": "stdout",
     "output_type": "stream",
     "text": [
      "The brown fox is quick which runs 100 miles per hour\n"
     ]
    }
   ],
   "source": [
    "#2. Inserted objects can be assigned keywords:\n",
    "\n",
    "print('The {b} {a} is {c} which runs {d} miles per hour'.format(a= 'fox', b= 'brown',c='quick',d=100))"
   ]
  },
  {
   "cell_type": "markdown",
   "id": "808abb07-0eca-4a18-92ba-9e8aa2b13e82",
   "metadata": {},
   "source": [
    "Inserted objects can be reused, avoiding duplication:"
   ]
  },
  {
   "cell_type": "code",
   "execution_count": 33,
   "id": "22e3197c-84de-4918-bd92-a9b58fa823a3",
   "metadata": {},
   "outputs": [
    {
     "name": "stdout",
     "output_type": "stream",
     "text": [
      "A penny saved is a penny earned.\n",
      "A penny saved is a penny earned.\n"
     ]
    }
   ],
   "source": [
    "print('A %s saved is a %s earned.' %('penny','penny'))\n",
    "# vs.\n",
    "print('A {p} saved is a {p} earned.'.format(p='penny'))"
   ]
  },
  {
   "cell_type": "markdown",
   "id": "9cabbd08-ce17-4612-b87f-8370a3418596",
   "metadata": {},
   "source": [
    "Alignment, padding and precision with .format()\n",
    "Within the curly braces you can assign field lengths, left/right alignments, rounding parameters and more"
   ]
  },
  {
   "cell_type": "code",
   "execution_count": 57,
   "id": "5a77a1fb-c954-4021-b884-e94be288a09e",
   "metadata": {},
   "outputs": [
    {
     "name": "stdout",
     "output_type": "stream",
     "text": [
      "Fruit | Test    \n",
      "Apples   |   2343.0\n",
      "Oranges  |       10\n"
     ]
    }
   ],
   "source": [
    "print('{0:2} | {2:8}'.format('Fruit', 'Quantity',\"Test\"))\n",
    "print('{0:8} | {1:8}'.format('Apples', 2343.))\n",
    "print('{0:8} | {1:8}'.format('Oranges', 10))"
   ]
  },
  {
   "cell_type": "code",
   "execution_count": 62,
   "id": "e36a2fe7-abfd-4eb3-9f94-b86549433a75",
   "metadata": {},
   "outputs": [
    {
     "name": "stdout",
     "output_type": "stream",
     "text": [
      "Left     |  Center  |    Right\n",
      "11       |         22         |       33\n",
      "Left==== | -Center- | ...Right\n",
      "11====== | ---22--- | ......33\n"
     ]
    }
   ],
   "source": [
    "#By default, .format() aligns text to the left, numbers to the right. You can pass an optional <,^, or > to set a left, center or right alignment:\n",
    "\n",
    "print('{0:<8} | {1:^8} | {2:>8}'.format('Left','Center','Right'))\n",
    "print('{0:<8} | {1:^18} | {2:>8}'.format(11,22,33))\n",
    "\n",
    "\n",
    "#You can precede the aligment operator with a padding character\n",
    "\n",
    "print('{0:=<8} | {1:-^8} | {2:.>8}'.format('Left','Center','Right'))\n",
    "print('{0:=<8} | {1:-^8} | {2:.>8}'.format(11,22,33))\n"
   ]
  },
  {
   "cell_type": "code",
   "execution_count": 63,
   "id": "dbaedbbf-2878-444b-b523-f67f49200152",
   "metadata": {},
   "outputs": [
    {
     "name": "stdout",
     "output_type": "stream",
     "text": [
      "This is my ten-character, two-decimal number:     13.58\n",
      "This is my ten-character, two-decimal number:     13.58\n"
     ]
    }
   ],
   "source": [
    "#Field widths and float precision are handled in a way similar to placeholders. The following two print statements are equivalent:\n",
    "\n",
    "#Note that there are 5 spaces following the colon, and 5 characters taken up by 13.58, for a total of ten characters.\n",
    "\n",
    "#For more information on the string .format() method visit https://docs.python.org/3/library/string.html#formatstrings\n",
    "\n",
    "print('This is my ten-character, two-decimal number:%10.2f' %13.579)\n",
    "print('This is my ten-character, two-decimal number:{0:10.2f}'.format(13.579))\n"
   ]
  },
  {
   "cell_type": "markdown",
   "id": "67f8e9fb-4b96-4f50-920a-ab4f95ab8c9a",
   "metadata": {},
   "source": [
    "Formatted String Literals (f-strings)\n",
    "\n",
    "Introduced in Python 3.6, f-strings offer several benefits over the older .format() string method described above. \n",
    "For one, you can bring outside variables immediately into to the string rather than pass them as arguments through .format(var)."
   ]
  },
  {
   "cell_type": "code",
   "execution_count": 82,
   "id": "004df30e-8084-4412-a6dd-a6852bb8a4ed",
   "metadata": {},
   "outputs": [
    {
     "name": "stdout",
     "output_type": "stream",
     "text": [
      "He said his name is Lion.\n",
      "This is new organization that supports animals like Lion and Lioness.\n",
      "He said his name is 'Lion'.\n",
      "This is new organization that supports animals like 'Lion' and Lioness.\n"
     ]
    }
   ],
   "source": [
    "name = 'Lion'\n",
    "names = 'ess'\n",
    "\n",
    "print(f'He said his name is {name}.')\n",
    "print(f'This is new organization that supports animals like {name} and {name}{names}.')\n",
    "\n",
    "#Pass !r to get the string representation:\n",
    "\n",
    "print(f'He said his name is {name!r}.')\n",
    "print(f'This is new organization that supports animals like {name!r} and {name}{names}.')"
   ]
  },
  {
   "cell_type": "code",
   "execution_count": 83,
   "id": "45630a4c-2ac6-4e72-99f9-d30314e26e8a",
   "metadata": {},
   "outputs": [
    {
     "name": "stdout",
     "output_type": "stream",
     "text": [
      "My 10 character, four decimal number is:   23.4568\n",
      "My 10 character, four decimal number is:   23.4568\n"
     ]
    }
   ],
   "source": [
    "#Float formatting follows \"result: {value:{width}.{precision}}\"\n",
    "\n",
    "#Where with the .format() method you might see {value:10.4f}, with f-strings this can become {value:{10}.{6}}\n",
    "\n",
    "\n",
    "num = 23.45678\n",
    "print(\"My 10 character, four decimal number is:{0:10.4f}\".format(num))\n",
    "print(f\"My 10 character, four decimal number is:{num:{10}.{6}}\")\n"
   ]
  },
  {
   "cell_type": "markdown",
   "id": "85d81b03-42ef-4211-a8e0-e3d35ab20efa",
   "metadata": {},
   "source": [
    "Note that with f-strings, precision refers to the total number of digits, not just those following the decimal. \n",
    "This fits more closely with scientific notation and statistical analysis. Unfortunately, \n",
    "f-strings do not pad to the right of the decimal, even if precision allows it:"
   ]
  },
  {
   "cell_type": "code",
   "execution_count": 84,
   "id": "eb7354a5-c8fc-458d-afff-dedf85698878",
   "metadata": {},
   "outputs": [
    {
     "name": "stdout",
     "output_type": "stream",
     "text": [
      "My 10 character, four decimal number is:   23.4500\n",
      "My 10 character, four decimal number is:     23.45\n"
     ]
    }
   ],
   "source": [
    "num = 23.45\n",
    "print(\"My 10 character, four decimal number is:{0:10.4f}\".format(num))\n",
    "print(f\"My 10 character, four decimal number is:{num:{10}.{6}}\")"
   ]
  },
  {
   "cell_type": "code",
   "execution_count": 89,
   "id": "e333e1f2-8c12-4269-be9c-c04eddb62f4e",
   "metadata": {},
   "outputs": [
    {
     "name": "stdout",
     "output_type": "stream",
     "text": [
      "My 10 character, four decimal number is:   23.4500\n",
      "My 10 character, four decimal number is:   23.4500\n"
     ]
    }
   ],
   "source": [
    "#If this becomes important, you can always use .format() method syntax inside an f-string:\n",
    "\n",
    "num = 23.45\n",
    "print(\"My 10 character, four decimal number is:{0:10.4f}\".format(num))\n",
    "print(f\"My 10 character, four decimal number is:{num:10.4f}\")"
   ]
  },
  {
   "cell_type": "code",
   "execution_count": null,
   "id": "4b705665-03e1-4430-b80a-f2d79fa34bd7",
   "metadata": {},
   "outputs": [],
   "source": [
    "#For more info on formatted string literals visit https://docs.python.org/3/reference/lexical_analysis.html#f-strings"
   ]
  },
  {
   "cell_type": "code",
   "execution_count": null,
   "id": "625c35de-7d56-4228-8efe-1d834c996d9d",
   "metadata": {},
   "outputs": [],
   "source": []
  },
  {
   "cell_type": "code",
   "execution_count": null,
   "id": "c2d3483c-04c3-487d-b813-8fcb89cb3197",
   "metadata": {},
   "outputs": [],
   "source": []
  },
  {
   "cell_type": "code",
   "execution_count": null,
   "id": "fa02abd1-1e92-4b0e-b760-acc5af1c185f",
   "metadata": {},
   "outputs": [],
   "source": []
  }
 ],
 "metadata": {
  "kernelspec": {
   "display_name": "Python 3 (ipykernel)",
   "language": "python",
   "name": "python3"
  },
  "language_info": {
   "codemirror_mode": {
    "name": "ipython",
    "version": 3
   },
   "file_extension": ".py",
   "mimetype": "text/x-python",
   "name": "python",
   "nbconvert_exporter": "python",
   "pygments_lexer": "ipython3",
   "version": "3.12.0"
  }
 },
 "nbformat": 4,
 "nbformat_minor": 5
}
