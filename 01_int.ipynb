{
 "cells": [
  {
   "cell_type": "code",
   "execution_count": 5,
   "id": "3dff17a4-2f00-47df-96d0-52f239ae123a",
   "metadata": {},
   "outputs": [],
   "source": [
    "add = 500"
   ]
  },
  {
   "cell_type": "code",
   "execution_count": 6,
   "id": "7d120ddd-2d03-40a1-9e6e-e7b6ca43b6a4",
   "metadata": {},
   "outputs": [
    {
     "data": {
      "text/plain": [
       "500"
      ]
     },
     "execution_count": 6,
     "metadata": {},
     "output_type": "execute_result"
    }
   ],
   "source": [
    "add"
   ]
  },
  {
   "cell_type": "code",
   "execution_count": 9,
   "id": "d9b78b96-154c-4f51-8b5c-65031400d6db",
   "metadata": {},
   "outputs": [],
   "source": [
    "my_earnings = 9000\n",
    "\n",
    "fed_taxes = 13.60\n",
    "\n",
    "my_taxable_income = my_earnings * fed_taxes /100"
   ]
  },
  {
   "cell_type": "code",
   "execution_count": 10,
   "id": "3a542a02-9234-4801-9297-c6c144592496",
   "metadata": {},
   "outputs": [
    {
     "data": {
      "text/plain": [
       "1224.0"
      ]
     },
     "execution_count": 10,
     "metadata": {},
     "output_type": "execute_result"
    }
   ],
   "source": [
    "my_taxable_income"
   ]
  },
  {
   "cell_type": "code",
   "execution_count": 21,
   "id": "54dae874-1cf2-45ae-87a0-b2bd83a02569",
   "metadata": {},
   "outputs": [
    {
     "data": {
      "text/plain": [
       "'This is my Monthly Earnings after Fed Tax deductions 7776.0'"
      ]
     },
     "execution_count": 21,
     "metadata": {},
     "output_type": "execute_result"
    }
   ],
   "source": [
    "'This is my Monthly Earnings after Fed Tax deductions ' +  str(my_earnings -  my_taxable_income )"
   ]
  },
  {
   "cell_type": "code",
   "execution_count": 25,
   "id": "7ade0dca-fc0d-40eb-aac7-cde4099d56ce",
   "metadata": {},
   "outputs": [
    {
     "data": {
      "text/plain": [
       "float"
      ]
     },
     "execution_count": 25,
     "metadata": {},
     "output_type": "execute_result"
    }
   ],
   "source": [
    "type(my_taxable_income)"
   ]
  },
  {
   "cell_type": "code",
   "execution_count": 26,
   "id": "036b2cee-206b-4b27-a6be-b2087fe1bb1e",
   "metadata": {},
   "outputs": [],
   "source": [
    "list = 300"
   ]
  },
  {
   "cell_type": "code",
   "execution_count": 27,
   "id": "be618767-679d-458c-b5ce-d658e05cb028",
   "metadata": {},
   "outputs": [
    {
     "data": {
      "text/plain": [
       "300"
      ]
     },
     "execution_count": 27,
     "metadata": {},
     "output_type": "execute_result"
    }
   ],
   "source": [
    "list"
   ]
  },
  {
   "cell_type": "code",
   "execution_count": 28,
   "id": "6bf110b2-5265-4785-8522-806e275e3fe5",
   "metadata": {},
   "outputs": [],
   "source": [
    "str = 'abc'"
   ]
  },
  {
   "cell_type": "code",
   "execution_count": 29,
   "id": "e96cc31e-75ed-4be2-a536-91738c9994d7",
   "metadata": {},
   "outputs": [
    {
     "data": {
      "text/plain": [
       "'abc'"
      ]
     },
     "execution_count": 29,
     "metadata": {},
     "output_type": "execute_result"
    }
   ],
   "source": [
    "str"
   ]
  },
  {
   "cell_type": "code",
   "execution_count": null,
   "id": "5506e214-cea0-43ea-9c21-d962aa263bbd",
   "metadata": {},
   "outputs": [],
   "source": []
  }
 ],
 "metadata": {
  "kernelspec": {
   "display_name": "Python 3 (ipykernel)",
   "language": "python",
   "name": "python3"
  },
  "language_info": {
   "codemirror_mode": {
    "name": "ipython",
    "version": 3
   },
   "file_extension": ".py",
   "mimetype": "text/x-python",
   "name": "python",
   "nbconvert_exporter": "python",
   "pygments_lexer": "ipython3",
   "version": "3.12.0"
  }
 },
 "nbformat": 4,
 "nbformat_minor": 5
}
